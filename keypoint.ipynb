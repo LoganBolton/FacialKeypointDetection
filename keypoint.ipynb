{
 "cells": [
  {
   "cell_type": "code",
   "execution_count": 1,
   "id": "8cbd1454-aee1-4369-9f6c-e424b95018e4",
   "metadata": {},
   "outputs": [],
   "source": [
    "train_path = 'data/training.csv'\n",
    "test_path = 'data/test.csv'\n",
    "look_up_path = 'data/IdLookupTable.csv'"
   ]
  },
  {
   "cell_type": "code",
   "execution_count": 2,
   "id": "e3712bee",
   "metadata": {},
   "outputs": [],
   "source": [
    "import pandas as pd\n",
    "from PIL import Image, ImageDraw\n",
    "import numpy as np\n",
    "import torch\n",
    "from torch.utils.data import DataLoader, Dataset, random_split\n",
    "import csv\n"
   ]
  },
  {
   "cell_type": "code",
   "execution_count": 7,
   "id": "5c5987e0",
   "metadata": {},
   "outputs": [
    {
     "ename": "NameError",
     "evalue": "name 'train_data' is not defined",
     "output_type": "error",
     "traceback": [
      "\u001b[0;31m---------------------------------------------------------------------------\u001b[0m",
      "\u001b[0;31mNameError\u001b[0m                                 Traceback (most recent call last)",
      "Cell \u001b[0;32mIn[7], line 22\u001b[0m\n\u001b[1;32m     19\u001b[0m         draw\u001b[38;5;241m.\u001b[39mellipse((point[\u001b[38;5;241m0\u001b[39m] \u001b[38;5;241m-\u001b[39m \u001b[38;5;241m1\u001b[39m, point[\u001b[38;5;241m1\u001b[39m] \u001b[38;5;241m-\u001b[39m \u001b[38;5;241m1\u001b[39m, point[\u001b[38;5;241m0\u001b[39m] \u001b[38;5;241m+\u001b[39m \u001b[38;5;241m1\u001b[39m, point[\u001b[38;5;241m1\u001b[39m] \u001b[38;5;241m+\u001b[39m \u001b[38;5;241m1\u001b[39m), fill\u001b[38;5;241m=\u001b[39m\u001b[38;5;124m'\u001b[39m\u001b[38;5;124mred\u001b[39m\u001b[38;5;124m'\u001b[39m, outline\u001b[38;5;241m=\u001b[39m\u001b[38;5;124m'\u001b[39m\u001b[38;5;124mred\u001b[39m\u001b[38;5;124m'\u001b[39m)\n\u001b[1;32m     20\u001b[0m     img\u001b[38;5;241m.\u001b[39mshow()\n\u001b[0;32m---> 22\u001b[0m \u001b[43mprint_image\u001b[49m\u001b[43m(\u001b[49m\u001b[38;5;241;43m2\u001b[39;49m\u001b[43m)\u001b[49m\n",
      "Cell \u001b[0;32mIn[7], line 4\u001b[0m, in \u001b[0;36mprint_image\u001b[0;34m(image_ID)\u001b[0m\n\u001b[1;32m      2\u001b[0m image_raw \u001b[38;5;241m=\u001b[39m []\n\u001b[1;32m      3\u001b[0m formatted_image \u001b[38;5;241m=\u001b[39m []\n\u001b[0;32m----> 4\u001b[0m \u001b[38;5;28;01mfor\u001b[39;00m num \u001b[38;5;129;01min\u001b[39;00m \u001b[43mtrain_data\u001b[49m[\u001b[38;5;124m'\u001b[39m\u001b[38;5;124mImage\u001b[39m\u001b[38;5;124m'\u001b[39m][image_ID]\u001b[38;5;241m.\u001b[39msplit(\u001b[38;5;124m'\u001b[39m\u001b[38;5;124m \u001b[39m\u001b[38;5;124m'\u001b[39m):\n\u001b[1;32m      5\u001b[0m     image_raw\u001b[38;5;241m.\u001b[39mappend(\u001b[38;5;28mint\u001b[39m(num))\n\u001b[1;32m      7\u001b[0m \u001b[38;5;28;01mfor\u001b[39;00m i \u001b[38;5;129;01min\u001b[39;00m \u001b[38;5;28mrange\u001b[39m(\u001b[38;5;241m96\u001b[39m):\n",
      "\u001b[0;31mNameError\u001b[0m: name 'train_data' is not defined"
     ]
    }
   ],
   "source": [
    "def print_image(image_ID):\n",
    "    image_raw = []\n",
    "    formatted_image = []\n",
    "    for num in train_data['Image'][image_ID].split(' '):\n",
    "        image_raw.append(int(num))\n",
    "\n",
    "    for i in range(96):\n",
    "        row = []\n",
    "        for j in range(96):\n",
    "            row.append(image_raw[i*96+j])\n",
    "        formatted_image.append(row)\n",
    "\n",
    "    img = Image.fromarray(np.array(formatted_image, dtype=np.uint8), mode='L').convert('RGB')\n",
    "    draw = ImageDraw.Draw(img)\n",
    "    point_columns = [col for col in train_data.columns if col != 'Image']\n",
    "    points = train_data.iloc[0][point_columns].values.reshape(-1, 2)\n",
    "\n",
    "    for point in points:\n",
    "        draw.ellipse((point[0] - 1, point[1] - 1, point[0] + 1, point[1] + 1), fill='red', outline='red')\n",
    "    img.show()\n",
    "\n",
    "print_image(2)"
   ]
  },
  {
   "cell_type": "markdown",
   "id": "9cfee8a7",
   "metadata": {},
   "source": [
    "# Data Cleanup "
   ]
  },
  {
   "cell_type": "markdown",
   "id": "26b60057",
   "metadata": {},
   "source": [
    "Out of the 7,049 rows, 4,755 of these rows are missing 22 fields. We are going to average out those missing fields"
   ]
  },
  {
   "cell_type": "code",
   "execution_count": 38,
   "id": "2a9bcf3d",
   "metadata": {},
   "outputs": [
    {
     "name": "stdout",
     "output_type": "stream",
     "text": [
      "Rows missing 'Image' field: 0\n",
      "\n",
      "Rows missing 2 field(s): 87\n",
      "Rows missing 4 field(s): 28\n",
      "Rows missing 6 field(s): 9\n",
      "Rows missing 8 field(s): 8\n",
      "Rows missing 10 field(s): 3\n",
      "Rows missing 12 field(s): 5\n",
      "Rows missing 14 field(s): 2\n",
      "Rows missing 20 field(s): 2\n",
      "Rows missing 22 field(s): 4755\n",
      "Rows missing 24 field(s): 10\n"
     ]
    }
   ],
   "source": [
    "# This ONLY includes rows that have data for at least 1 keypoint\n",
    "# Rows that only contain image data are not included\n",
    "train_data = pd.read_csv(train_path)\n",
    "\n",
    "missing_image_rows = train_data['Image'].isnull().sum()\n",
    "print(f\"Rows missing 'Image' field: {missing_image_rows}\\n\")\n",
    "\n",
    "missing_counts = train_data.isnull().sum(axis=1).value_counts().sort_index()\n",
    "for missing_fields, row_count in missing_counts.items():\n",
    "    if missing_fields > 0:\n",
    "        print(f\"Rows missing {missing_fields} field(s): {row_count}\")"
   ]
  },
  {
   "cell_type": "markdown",
   "id": "ea0dbd2b",
   "metadata": {},
   "source": [
    "Since a significant amonut of rows contain blank values, we will fill in these values with the average for the column. \n",
    "\n",
    "In the future it would be worth experimenting with removing these rows instead of filling them out. For now we are going to go with the idea that lots of flawed synthetic data is better than a small amount of quality data. "
   ]
  },
  {
   "cell_type": "code",
   "execution_count": 48,
   "id": "a9be06ea",
   "metadata": {},
   "outputs": [
    {
     "name": "stdout",
     "output_type": "stream",
     "text": [
      "{'left_eye_center_x': 66.35902124475366, 'left_eye_center_y': 37.65123419193395, 'right_eye_center_x': 30.30610151407975, 'right_eye_center_y': 37.97694257172699, 'left_eye_inner_corner_x': 59.15933943740389, 'left_eye_inner_corner_y': 37.94475232796771, 'left_eye_outer_corner_x': 73.33047798314611, 'left_eye_outer_corner_y': 37.707008310792986, 'right_eye_inner_corner_x': 36.652606948057254, 'right_eye_inner_corner_y': 37.9899019145105, 'right_eye_outer_corner_x': 22.384504479169358, 'right_eye_outer_corner_y': 38.03349517525054, 'left_eyebrow_inner_end_x': 56.068513079309284, 'left_eyebrow_inner_end_y': 29.332678249311712, 'left_eyebrow_outer_end_x': 79.48282586419953, 'left_eyebrow_outer_end_y': 29.734860732432317, 'right_eyebrow_inner_end_x': 39.32213692201747, 'right_eyebrow_inner_end_y': 29.50299847411299, 'right_eyebrow_outer_end_x': 15.871177472719154, 'right_eyebrow_outer_end_y': 30.428165911873432, 'nose_tip_x': 48.37418629032876, 'nose_tip_y': 62.71588359736171, 'mouth_left_corner_x': 63.28573512098671, 'mouth_left_corner_y': 75.97071433583542, 'mouth_right_corner_x': 32.90040370265762, 'mouth_right_corner_y': 76.17976785460499, 'mouth_center_top_lip_x': 47.975411572020306, 'mouth_center_top_lip_y': 72.91944259683736, 'mouth_center_bottom_lip_x': 48.569472172278196, 'mouth_center_bottom_lip_y': 78.97014624503689}\n",
      "Empty DataFrame\n",
      "Columns: [left_eye_center_x, left_eye_center_y, right_eye_center_x, right_eye_center_y, left_eye_inner_corner_x, left_eye_inner_corner_y, left_eye_outer_corner_x, left_eye_outer_corner_y, right_eye_inner_corner_x, right_eye_inner_corner_y, right_eye_outer_corner_x, right_eye_outer_corner_y, left_eyebrow_inner_end_x, left_eyebrow_inner_end_y, left_eyebrow_outer_end_x, left_eyebrow_outer_end_y, right_eyebrow_inner_end_x, right_eyebrow_inner_end_y, right_eyebrow_outer_end_x, right_eyebrow_outer_end_y, nose_tip_x, nose_tip_y, mouth_left_corner_x, mouth_left_corner_y, mouth_right_corner_x, mouth_right_corner_y, mouth_center_top_lip_x, mouth_center_top_lip_y, mouth_center_bottom_lip_x, mouth_center_bottom_lip_y, Image]\n",
      "Index: []\n",
      "\n",
      "[0 rows x 31 columns]\n"
     ]
    },
    {
     "name": "stderr",
     "output_type": "stream",
     "text": [
      "/var/folders/kp/vdv61pd97vd0x29b257r8h7h0000gn/T/ipykernel_1534/2586996622.py:12: FutureWarning: A value is trying to be set on a copy of a DataFrame or Series through chained assignment using an inplace method.\n",
      "The behavior will change in pandas 3.0. This inplace method will never work because the intermediate object on which we are setting values always behaves as a copy.\n",
      "\n",
      "For example, when doing 'df[col].method(value, inplace=True)', try using 'df.method({col: value}, inplace=True)' or df[col] = df[col].method(value) instead, to perform the operation inplace on the original object.\n",
      "\n",
      "\n",
      "  train_data[column_name].fillna(mean_value, inplace=True)\n"
     ]
    }
   ],
   "source": [
    "column_means = {}\n",
    "\n",
    "# Iterate over each column index except the last one\n",
    "for i in range(train_data.shape[1] - 1):\n",
    "    column_name = train_data.columns[i]\n",
    "    mean_value = train_data.iloc[:, i].mean()\n",
    "    column_means[column_name] = mean_value\n",
    "print(column_means)\n",
    "\n",
    "# Fill missing values using the precomputed means, except for the \"Image\" column\n",
    "for column_name, mean_value in column_means.items():\n",
    "    train_data[column_name].fillna(mean_value, inplace=True)\n",
    "    \n",
    "# save train_data\n",
    "# train_data.to_csv('data/avg_train_data.csv', index=False)\n",
    "\n",
    "# Make sure no blank vals go through\n",
    "missing_row = train_data[train_data.isnull().any(axis=1)]\n",
    "print(missing_row)"
   ]
  },
  {
   "cell_type": "code",
   "execution_count": null,
   "id": "e81784e1",
   "metadata": {},
   "outputs": [
    {
     "name": "stdout",
     "output_type": "stream",
     "text": [
      "7049\n",
      "7049\n"
     ]
    }
   ],
   "source": []
  }
 ],
 "metadata": {
  "kernelspec": {
   "display_name": "Python 3 (ipykernel)",
   "language": "python",
   "name": "python3"
  },
  "language_info": {
   "codemirror_mode": {
    "name": "ipython",
    "version": 3
   },
   "file_extension": ".py",
   "mimetype": "text/x-python",
   "name": "python",
   "nbconvert_exporter": "python",
   "pygments_lexer": "ipython3",
   "version": "3.12.2"
  }
 },
 "nbformat": 4,
 "nbformat_minor": 5
}
