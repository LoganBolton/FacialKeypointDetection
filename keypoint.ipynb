{
 "cells": [
  {
   "cell_type": "code",
   "execution_count": 22,
   "id": "8cbd1454-aee1-4369-9f6c-e424b95018e4",
   "metadata": {},
   "outputs": [],
   "source": [
    "train_path = 'data/training.csv'\n",
    "test_path = 'data/test.csv'\n",
    "look_up_path = 'data/IdLookupTable.csv'\n",
    "\n",
    "train_data = pd.read_csv(train_path)"
   ]
  },
  {
   "cell_type": "code",
   "execution_count": 16,
   "id": "e3712bee",
   "metadata": {},
   "outputs": [],
   "source": [
    "import pandas as pd\n",
    "from PIL import Image\n",
    "import numpy as np"
   ]
  },
  {
   "cell_type": "code",
   "execution_count": 23,
   "id": "5c5987e0",
   "metadata": {},
   "outputs": [],
   "source": [
    "def print_image(image_ID):\n",
    "    image_raw = []\n",
    "    formatted_image = []\n",
    "    for num in train_data['Image'][image_ID].split(' '):\n",
    "        image_raw.append(int(num))\n",
    "\n",
    "    for i in range(96):\n",
    "        row = []\n",
    "        for j in range(96):\n",
    "            row.append(image_raw[i*96+j])\n",
    "        formatted_image.append(row)\n",
    "\n",
    "    img = Image.fromarray(np.array(formatted_image, dtype=np.uint8), mode='L')\n",
    "    img.show()\n",
    "\n",
    "print_image(0)"
   ]
  },
  {
   "cell_type": "code",
   "execution_count": null,
   "id": "2a9bcf3d",
   "metadata": {},
   "outputs": [],
   "source": []
  }
 ],
 "metadata": {
  "kernelspec": {
   "display_name": "Python 3 (ipykernel)",
   "language": "python",
   "name": "python3"
  },
  "language_info": {
   "codemirror_mode": {
    "name": "ipython",
    "version": 3
   },
   "file_extension": ".py",
   "mimetype": "text/x-python",
   "name": "python",
   "nbconvert_exporter": "python",
   "pygments_lexer": "ipython3",
   "version": "3.12.2"
  }
 },
 "nbformat": 4,
 "nbformat_minor": 5
}
