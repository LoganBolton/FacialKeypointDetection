{
 "cells": [
  {
   "cell_type": "code",
   "execution_count": 1,
   "id": "8cbd1454-aee1-4369-9f6c-e424b95018e4",
   "metadata": {},
   "outputs": [],
   "source": [
    "train_path = 'data/training.csv'\n",
    "test_path = 'data/test.csv'\n",
    "look_up_path = 'data/IdLookupTable.csv'"
   ]
  },
  {
   "cell_type": "code",
   "execution_count": 2,
   "id": "e3712bee",
   "metadata": {},
   "outputs": [],
   "source": [
    "import pandas as pd\n",
    "from PIL import Image, ImageDraw\n",
    "import numpy as np\n",
    "import torch\n",
    "from torch.utils.data import DataLoader, Dataset, random_split\n",
    "import csv\n"
   ]
  },
  {
   "cell_type": "code",
   "execution_count": 7,
   "id": "5c5987e0",
   "metadata": {},
   "outputs": [
    {
     "ename": "NameError",
     "evalue": "name 'train_data' is not defined",
     "output_type": "error",
     "traceback": [
      "\u001b[0;31m---------------------------------------------------------------------------\u001b[0m",
      "\u001b[0;31mNameError\u001b[0m                                 Traceback (most recent call last)",
      "Cell \u001b[0;32mIn[7], line 22\u001b[0m\n\u001b[1;32m     19\u001b[0m         draw\u001b[38;5;241m.\u001b[39mellipse((point[\u001b[38;5;241m0\u001b[39m] \u001b[38;5;241m-\u001b[39m \u001b[38;5;241m1\u001b[39m, point[\u001b[38;5;241m1\u001b[39m] \u001b[38;5;241m-\u001b[39m \u001b[38;5;241m1\u001b[39m, point[\u001b[38;5;241m0\u001b[39m] \u001b[38;5;241m+\u001b[39m \u001b[38;5;241m1\u001b[39m, point[\u001b[38;5;241m1\u001b[39m] \u001b[38;5;241m+\u001b[39m \u001b[38;5;241m1\u001b[39m), fill\u001b[38;5;241m=\u001b[39m\u001b[38;5;124m'\u001b[39m\u001b[38;5;124mred\u001b[39m\u001b[38;5;124m'\u001b[39m, outline\u001b[38;5;241m=\u001b[39m\u001b[38;5;124m'\u001b[39m\u001b[38;5;124mred\u001b[39m\u001b[38;5;124m'\u001b[39m)\n\u001b[1;32m     20\u001b[0m     img\u001b[38;5;241m.\u001b[39mshow()\n\u001b[0;32m---> 22\u001b[0m \u001b[43mprint_image\u001b[49m\u001b[43m(\u001b[49m\u001b[38;5;241;43m2\u001b[39;49m\u001b[43m)\u001b[49m\n",
      "Cell \u001b[0;32mIn[7], line 4\u001b[0m, in \u001b[0;36mprint_image\u001b[0;34m(image_ID)\u001b[0m\n\u001b[1;32m      2\u001b[0m image_raw \u001b[38;5;241m=\u001b[39m []\n\u001b[1;32m      3\u001b[0m formatted_image \u001b[38;5;241m=\u001b[39m []\n\u001b[0;32m----> 4\u001b[0m \u001b[38;5;28;01mfor\u001b[39;00m num \u001b[38;5;129;01min\u001b[39;00m \u001b[43mtrain_data\u001b[49m[\u001b[38;5;124m'\u001b[39m\u001b[38;5;124mImage\u001b[39m\u001b[38;5;124m'\u001b[39m][image_ID]\u001b[38;5;241m.\u001b[39msplit(\u001b[38;5;124m'\u001b[39m\u001b[38;5;124m \u001b[39m\u001b[38;5;124m'\u001b[39m):\n\u001b[1;32m      5\u001b[0m     image_raw\u001b[38;5;241m.\u001b[39mappend(\u001b[38;5;28mint\u001b[39m(num))\n\u001b[1;32m      7\u001b[0m \u001b[38;5;28;01mfor\u001b[39;00m i \u001b[38;5;129;01min\u001b[39;00m \u001b[38;5;28mrange\u001b[39m(\u001b[38;5;241m96\u001b[39m):\n",
      "\u001b[0;31mNameError\u001b[0m: name 'train_data' is not defined"
     ]
    }
   ],
   "source": [
    "def print_image(image_ID):\n",
    "    image_raw = []\n",
    "    formatted_image = []\n",
    "    for num in train_data['Image'][image_ID].split(' '):\n",
    "        image_raw.append(int(num))\n",
    "\n",
    "    for i in range(96):\n",
    "        row = []\n",
    "        for j in range(96):\n",
    "            row.append(image_raw[i*96+j])\n",
    "        formatted_image.append(row)\n",
    "\n",
    "    img = Image.fromarray(np.array(formatted_image, dtype=np.uint8), mode='L').convert('RGB')\n",
    "    draw = ImageDraw.Draw(img)\n",
    "    point_columns = [col for col in train_data.columns if col != 'Image']\n",
    "    points = train_data.iloc[0][point_columns].values.reshape(-1, 2)\n",
    "\n",
    "    for point in points:\n",
    "        draw.ellipse((point[0] - 1, point[1] - 1, point[0] + 1, point[1] + 1), fill='red', outline='red')\n",
    "    img.show()\n",
    "\n",
    "print_image(2)"
   ]
  },
  {
   "cell_type": "markdown",
   "id": "9cfee8a7",
   "metadata": {},
   "source": [
    "# Data Cleanup "
   ]
  },
  {
   "cell_type": "markdown",
   "id": "26b60057",
   "metadata": {},
   "source": [
    "Out of the 7,049 rows, 4,755 of these rows are missing 22 fields. We are going to average out those missing fields"
   ]
  },
  {
   "cell_type": "code",
   "execution_count": 32,
   "id": "2a9bcf3d",
   "metadata": {},
   "outputs": [
    {
     "name": "stdout",
     "output_type": "stream",
     "text": [
      "Rows missing 'Image' field: 0\n",
      "\n",
      "Rows missing 2 field(s): 87\n",
      "Rows missing 4 field(s): 28\n",
      "Rows missing 6 field(s): 9\n",
      "Rows missing 8 field(s): 8\n",
      "Rows missing 10 field(s): 3\n",
      "Rows missing 12 field(s): 5\n",
      "Rows missing 14 field(s): 2\n",
      "Rows missing 20 field(s): 2\n",
      "Rows missing 22 field(s): 4755\n",
      "Rows missing 24 field(s): 10\n"
     ]
    }
   ],
   "source": [
    "# This ONLY includes rows that have data for at least 1 keypoint\n",
    "# Rows that only contain image data are not included\n",
    "train_data = pd.read_csv(train_path)\n",
    "\n",
    "missing_image_rows = train_data['Image'].isnull().sum()\n",
    "print(f\"Rows missing 'Image' field: {missing_image_rows}\\n\")\n",
    "\n",
    "missing_counts = train_data.isnull().sum(axis=1).value_counts().sort_index()\n",
    "for missing_fields, row_count in missing_counts.items():\n",
    "    if missing_fields > 0:\n",
    "        print(f\"Rows missing {missing_fields} field(s): {row_count}\")"
   ]
  },
  {
   "cell_type": "code",
   "execution_count": 29,
   "id": "4e1c71ed",
   "metadata": {},
   "outputs": [
    {
     "name": "stdout",
     "output_type": "stream",
     "text": [
      "left_eye_center_x                                                     65.36512\n",
      "left_eye_center_y                                                     39.98848\n",
      "right_eye_center_x                                                    28.25152\n",
      "right_eye_center_y                                                    37.39968\n",
      "left_eye_inner_corner_x                                               59.32288\n",
      "left_eye_inner_corner_y                                               40.85184\n",
      "left_eye_outer_corner_x                                               71.98208\n",
      "left_eye_outer_corner_y                                                41.7152\n",
      "right_eye_inner_corner_x                                              33.71776\n",
      "right_eye_inner_corner_y                                               38.5504\n",
      "right_eye_outer_corner_x                                              21.34656\n",
      "right_eye_outer_corner_y                                              37.97504\n",
      "left_eyebrow_inner_end_x                                               57.5968\n",
      "left_eyebrow_inner_end_y                                             30.494656\n",
      "left_eyebrow_outer_end_x                                              80.03776\n",
      "left_eyebrow_outer_end_y                                              33.94688\n",
      "right_eyebrow_inner_end_x                                             37.45792\n",
      "right_eyebrow_inner_end_y                                            27.617664\n",
      "right_eyebrow_outer_end_x                                             15.59296\n",
      "right_eyebrow_outer_end_y                                            27.329984\n",
      "nose_tip_x                                                             45.2256\n",
      "nose_tip_y                                                            61.27872\n",
      "mouth_left_corner_x                                                    57.8848\n",
      "mouth_left_corner_y                                                    87.4592\n",
      "mouth_right_corner_x                                                  34.29312\n",
      "mouth_right_corner_y                                                  85.15776\n",
      "mouth_center_top_lip_x                                                46.37696\n",
      "mouth_center_top_lip_y                                                79.11616\n",
      "mouth_center_bottom_lip_x                                                  NaN\n",
      "mouth_center_bottom_lip_y                                                  NaN\n",
      "Image                        181 56 47 59 65 71 86 66 32 22 17 7 8 12 13 14...\n",
      "Name: 210, dtype: object\n"
     ]
    }
   ],
   "source": [
    "missing_row = train_data[train_data.isnull().any(axis=1)].iloc[0]\n",
    "print(missing_row)"
   ]
  },
  {
   "cell_type": "code",
   "execution_count": 35,
   "id": "a9be06ea",
   "metadata": {},
   "outputs": [],
   "source": [
    "column_means = {}\n",
    "\n",
    "# Iterate over each column index except the last one\n",
    "for i in range(train_data.shape[1] - 1):\n",
    "    column_name = train_data.columns[i]\n",
    "    mean_value = train_data.iloc[:, i].mean()\n",
    "    column_means[i] = mean_value\n",
    "\n",
    "avg_train = train_data.fillna(column_means)\n",
    "\n",
    "# save train_data\n",
    "# avg_train.to_csv('data/avg_train_data.csv', index=False)\n",
    "\n",
    "missing_row = avg_train[avg_train.isnull().any(axis=1)].iloc[0]\n",
    "print(missing_row)"
   ]
  },
  {
   "cell_type": "code",
   "execution_count": 30,
   "id": "1b5bc5ae",
   "metadata": {},
   "outputs": [
    {
     "data": {
      "text/plain": [
       "{0: 66.35902124475365,\n",
       " 1: 37.65123419193395,\n",
       " 2: 30.306101514079753,\n",
       " 3: 37.97694257172698,\n",
       " 4: 59.15933943740387,\n",
       " 5: 37.94475232796772,\n",
       " 6: 73.3304779831461,\n",
       " 7: 37.707008310792986,\n",
       " 8: 36.65260694805725,\n",
       " 9: 37.98990191451049,\n",
       " 10: 22.384504479169355,\n",
       " 11: 38.03349517525053,\n",
       " 12: 56.06851307930929,\n",
       " 13: 29.332678249311716,\n",
       " 14: 79.48282586419953,\n",
       " 15: 29.734860732432317,\n",
       " 16: 39.32213692201747,\n",
       " 17: 29.502998474112996,\n",
       " 18: 15.871177472719152,\n",
       " 19: 30.428165911873432,\n",
       " 20: 48.37418629032876,\n",
       " 21: 62.71588359736171,\n",
       " 22: 63.285735120986686,\n",
       " 23: 75.97071433583544,\n",
       " 24: 32.90040370265762,\n",
       " 25: 76.17976785460499,\n",
       " 26: 47.9754115720203,\n",
       " 27: 72.91944259683736,\n",
       " 28: 48.56947217227819,\n",
       " 29: 78.97014624503687}"
      ]
     },
     "execution_count": 30,
     "metadata": {},
     "output_type": "execute_result"
    }
   ],
   "source": [
    "column_means"
   ]
  },
  {
   "cell_type": "code",
   "execution_count": null,
   "id": "e81784e1",
   "metadata": {},
   "outputs": [
    {
     "name": "stdout",
     "output_type": "stream",
     "text": [
      "7049\n",
      "7049\n"
     ]
    }
   ],
   "source": []
  }
 ],
 "metadata": {
  "kernelspec": {
   "display_name": "Python 3 (ipykernel)",
   "language": "python",
   "name": "python3"
  },
  "language_info": {
   "codemirror_mode": {
    "name": "ipython",
    "version": 3
   },
   "file_extension": ".py",
   "mimetype": "text/x-python",
   "name": "python",
   "nbconvert_exporter": "python",
   "pygments_lexer": "ipython3",
   "version": "3.12.2"
  }
 },
 "nbformat": 4,
 "nbformat_minor": 5
}
